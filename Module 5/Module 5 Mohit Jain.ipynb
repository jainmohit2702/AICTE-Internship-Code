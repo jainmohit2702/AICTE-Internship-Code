{
 "cells": [
  {
   "cell_type": "code",
   "execution_count": 1,
   "metadata": {},
   "outputs": [],
   "source": [
    "# Mohit Jain \n",
    "# Date - 20 June, 2020"
   ]
  },
  {
   "cell_type": "markdown",
   "metadata": {},
   "source": [
    "<h1> Module 5 : </h1>"
   ]
  },
  {
   "cell_type": "code",
   "execution_count": 2,
   "metadata": {},
   "outputs": [],
   "source": [
    "import pandas as pd\n",
    "import numpy as np\n",
    "import seaborn as sns\n",
    "import matplotlib.pyplot as plt"
   ]
  },
  {
   "cell_type": "markdown",
   "metadata": {},
   "source": [
    "<h3> Question 1 : </h3>"
   ]
  },
  {
   "cell_type": "code",
   "execution_count": 3,
   "metadata": {},
   "outputs": [],
   "source": [
    "def getDataset(filename):\n",
    "    df=pd.read_csv(filename,parse_dates=['Date'])\n",
    "    return df\n",
    "def Calculate_DailyReturns(dataframe):\n",
    "    mean_daily_returns = dataframe['Close Price'].pct_change().dropna().mean()\n",
    "    std_daily_returns = dataframe['Close Price'].pct_change().dropna().std()\n",
    "    return mean_daily_returns,std_daily_returns\n",
    "def Calculate_annualReturns(mean_daily_returns,std_daily_returns):\n",
    "    annual_mean = mean_daily_returns*252\n",
    "    annual_std = std_daily_returns*np.sqrt(252)\n",
    "    return annual_mean,annual_std\n",
    "\n",
    "def display_portfolio(filename,name,cap):\n",
    "    df=getDataset(filename)\n",
    "    mean_daily_returns,std_daily_returns=Calculate_DailyReturns(df)\n",
    "    annual_mean,annual_std = Calculate_annualReturns(mean_daily_returns,std_daily_returns)\n",
    "    portfolio_df = pd.DataFrame([{\"Name\" : name, \"Cap\" : cap, \n",
    "             \"meanDailyReturn\" : mean_daily_returns, \"meanDailySTD\" : std_daily_returns,\n",
    "             \"meanAnnualReturn\" : annual_mean, \"meanAnnualSTD\" : annual_std}])\n",
    "    portfolio_df.set_index(portfolio_df.Name, inplace = True, drop = False)\n",
    "    return portfolio_df"
   ]
  },
  {
   "cell_type": "code",
   "execution_count": 4,
   "metadata": {},
   "outputs": [
    {
     "name": "stdout",
     "output_type": "stream",
     "text": [
      "MEAN daily returns =  -9.333949271498724e-05\n",
      "StandardDeviation =  0.02634062922421401\n",
      "Annual MEAN =  -0.02\n",
      "Annual Standard Deviation =  0.42\n"
     ]
    }
   ],
   "source": [
    "df_infy=getDataset('INFY.csv')\n",
    "mean_daily_returns,std_daily_returns=Calculate_DailyReturns(df_infy)\n",
    "annual_mean,annual_std=Calculate_annualReturns(mean_daily_returns,std_daily_returns)\n",
    "print(\"MEAN daily returns = \",mean_daily_returns)\n",
    "print(\"StandardDeviation = \",std_daily_returns)\n",
    "print(\"Annual MEAN = \", round(annual_mean,2))\n",
    "print(\"Annual Standard Deviation = \", round(annual_std,2))\n"
   ]
  },
  {
   "cell_type": "code",
   "execution_count": 5,
   "metadata": {},
   "outputs": [
    {
     "data": {
      "text/html": [
       "<div>\n",
       "<style scoped>\n",
       "    .dataframe tbody tr th:only-of-type {\n",
       "        vertical-align: middle;\n",
       "    }\n",
       "\n",
       "    .dataframe tbody tr th {\n",
       "        vertical-align: top;\n",
       "    }\n",
       "\n",
       "    .dataframe thead th {\n",
       "        text-align: right;\n",
       "    }\n",
       "</style>\n",
       "<table border=\"1\" class=\"dataframe\">\n",
       "  <thead>\n",
       "    <tr style=\"text-align: right;\">\n",
       "      <th></th>\n",
       "      <th>Name</th>\n",
       "      <th>Cap</th>\n",
       "      <th>meanDailyReturn</th>\n",
       "      <th>meanDailySTD</th>\n",
       "      <th>meanAnnualReturn</th>\n",
       "      <th>meanAnnualSTD</th>\n",
       "    </tr>\n",
       "    <tr>\n",
       "      <th>Name</th>\n",
       "      <th></th>\n",
       "      <th></th>\n",
       "      <th></th>\n",
       "      <th></th>\n",
       "      <th></th>\n",
       "      <th></th>\n",
       "    </tr>\n",
       "  </thead>\n",
       "  <tbody>\n",
       "    <tr>\n",
       "      <td>INFY</td>\n",
       "      <td>INFY</td>\n",
       "      <td>Large Cap</td>\n",
       "      <td>-0.000093</td>\n",
       "      <td>0.026341</td>\n",
       "      <td>-0.023522</td>\n",
       "      <td>0.418145</td>\n",
       "    </tr>\n",
       "  </tbody>\n",
       "</table>\n",
       "</div>"
      ],
      "text/plain": [
       "      Name        Cap  meanDailyReturn  meanDailySTD  meanAnnualReturn  \\\n",
       "Name                                                                     \n",
       "INFY  INFY  Large Cap        -0.000093      0.026341         -0.023522   \n",
       "\n",
       "      meanAnnualSTD  \n",
       "Name                 \n",
       "INFY       0.418145  "
      ]
     },
     "execution_count": 5,
     "metadata": {},
     "output_type": "execute_result"
    }
   ],
   "source": [
    "portfolio_df = pd.DataFrame([{\"Name\" : \"INFY\", \"Cap\" : \"Large Cap\", \n",
    "             \"meanDailyReturn\" : mean_daily_returns, \"meanDailySTD\" : std_daily_returns,\n",
    "             \"meanAnnualReturn\" : annual_mean, \"meanAnnualSTD\" : annual_std}])\n",
    "portfolio_df.set_index(portfolio_df.Name, inplace = True, drop = False)\n",
    "portfolio_df"
   ]
  },
  {
   "cell_type": "markdown",
   "metadata": {},
   "source": [
    "<h3> Question 2 : </h3>"
   ]
  },
  {
   "cell_type": "code",
   "execution_count": 6,
   "metadata": {},
   "outputs": [
    {
     "data": {
      "text/html": [
       "<div>\n",
       "<style scoped>\n",
       "    .dataframe tbody tr th:only-of-type {\n",
       "        vertical-align: middle;\n",
       "    }\n",
       "\n",
       "    .dataframe tbody tr th {\n",
       "        vertical-align: top;\n",
       "    }\n",
       "\n",
       "    .dataframe thead th {\n",
       "        text-align: right;\n",
       "    }\n",
       "</style>\n",
       "<table border=\"1\" class=\"dataframe\">\n",
       "  <thead>\n",
       "    <tr style=\"text-align: right;\">\n",
       "      <th></th>\n",
       "      <th>Name</th>\n",
       "      <th>Cap</th>\n",
       "      <th>meanDailyReturn</th>\n",
       "      <th>meanDailySTD</th>\n",
       "      <th>meanAnnualReturn</th>\n",
       "      <th>meanAnnualSTD</th>\n",
       "    </tr>\n",
       "    <tr>\n",
       "      <th>Name</th>\n",
       "      <th></th>\n",
       "      <th></th>\n",
       "      <th></th>\n",
       "      <th></th>\n",
       "      <th></th>\n",
       "      <th></th>\n",
       "    </tr>\n",
       "  </thead>\n",
       "  <tbody>\n",
       "    <tr>\n",
       "      <td>TCS</td>\n",
       "      <td>TCS</td>\n",
       "      <td>LARGE-CAP</td>\n",
       "      <td>0.000295</td>\n",
       "      <td>0.027079</td>\n",
       "      <td>0.074423</td>\n",
       "      <td>0.429873</td>\n",
       "    </tr>\n",
       "    <tr>\n",
       "      <td>ADANIPORTS</td>\n",
       "      <td>ADANIPORTS</td>\n",
       "      <td>LARGE-CAP</td>\n",
       "      <td>0.000240</td>\n",
       "      <td>0.019493</td>\n",
       "      <td>0.060376</td>\n",
       "      <td>0.309436</td>\n",
       "    </tr>\n",
       "    <tr>\n",
       "      <td>APOLLOTYRES</td>\n",
       "      <td>APOLLOTYRES</td>\n",
       "      <td>MID-CAP</td>\n",
       "      <td>-0.000255</td>\n",
       "      <td>0.019556</td>\n",
       "      <td>-0.064303</td>\n",
       "      <td>0.310445</td>\n",
       "    </tr>\n",
       "    <tr>\n",
       "      <td>MINDTREE</td>\n",
       "      <td>MINDTREE</td>\n",
       "      <td>MID-CAP</td>\n",
       "      <td>0.001558</td>\n",
       "      <td>0.021512</td>\n",
       "      <td>0.392570</td>\n",
       "      <td>0.341485</td>\n",
       "    </tr>\n",
       "    <tr>\n",
       "      <td>RAYMOND</td>\n",
       "      <td>RAYMOND</td>\n",
       "      <td>SMALL-CAP</td>\n",
       "      <td>0.000278</td>\n",
       "      <td>0.022919</td>\n",
       "      <td>0.070021</td>\n",
       "      <td>0.363834</td>\n",
       "    </tr>\n",
       "  </tbody>\n",
       "</table>\n",
       "</div>"
      ],
      "text/plain": [
       "                    Name        Cap  meanDailyReturn  meanDailySTD  \\\n",
       "Name                                                                 \n",
       "TCS                  TCS  LARGE-CAP         0.000295      0.027079   \n",
       "ADANIPORTS    ADANIPORTS  LARGE-CAP         0.000240      0.019493   \n",
       "APOLLOTYRES  APOLLOTYRES    MID-CAP        -0.000255      0.019556   \n",
       "MINDTREE        MINDTREE    MID-CAP         0.001558      0.021512   \n",
       "RAYMOND          RAYMOND  SMALL-CAP         0.000278      0.022919   \n",
       "\n",
       "             meanAnnualReturn  meanAnnualSTD  \n",
       "Name                                          \n",
       "TCS                  0.074423       0.429873  \n",
       "ADANIPORTS           0.060376       0.309436  \n",
       "APOLLOTYRES         -0.064303       0.310445  \n",
       "MINDTREE             0.392570       0.341485  \n",
       "RAYMOND              0.070021       0.363834  "
      ]
     },
     "execution_count": 6,
     "metadata": {},
     "output_type": "execute_result"
    }
   ],
   "source": [
    "portfolio_tcs = display_portfolio('TCS.csv','TCS','LARGE-CAP')\n",
    "portfolio_ad = display_portfolio('ADANIPORTS.csv','ADANIPORTS','LARGE-CAP')\n",
    "portfolio_apollo = display_portfolio('APOLLOTYRE.csv','APOLLOTYRES','MID-CAP')\n",
    "portfolio_mtree = display_portfolio('MINDTREE.csv','MINDTREE','MID-CAP')\n",
    "portfolio_ray = display_portfolio('RAYMOND.csv','RAYMOND','SMALL-CAP')\n",
    "portfolio = pd.concat([portfolio_tcs,portfolio_ad,portfolio_apollo,portfolio_mtree,portfolio_ray],axis=0,sort=False)\n",
    "portfolio\n"
   ]
  },
  {
   "cell_type": "code",
   "execution_count": 7,
   "metadata": {},
   "outputs": [
    {
     "data": {
      "text/html": [
       "<div>\n",
       "<style scoped>\n",
       "    .dataframe tbody tr th:only-of-type {\n",
       "        vertical-align: middle;\n",
       "    }\n",
       "\n",
       "    .dataframe tbody tr th {\n",
       "        vertical-align: top;\n",
       "    }\n",
       "\n",
       "    .dataframe thead th {\n",
       "        text-align: right;\n",
       "    }\n",
       "</style>\n",
       "<table border=\"1\" class=\"dataframe\">\n",
       "  <thead>\n",
       "    <tr style=\"text-align: right;\">\n",
       "      <th></th>\n",
       "      <th>TCS</th>\n",
       "      <th>ADANIPORTS</th>\n",
       "      <th>APOLLOTYRES</th>\n",
       "      <th>MINDTREE</th>\n",
       "      <th>RAYMOND</th>\n",
       "    </tr>\n",
       "  </thead>\n",
       "  <tbody>\n",
       "    <tr>\n",
       "      <td>0</td>\n",
       "      <td>2365.10</td>\n",
       "      <td>356.20</td>\n",
       "      <td>231.90</td>\n",
       "      <td>509.45</td>\n",
       "      <td>772.80</td>\n",
       "    </tr>\n",
       "    <tr>\n",
       "      <td>1</td>\n",
       "      <td>2429.15</td>\n",
       "      <td>354.50</td>\n",
       "      <td>234.40</td>\n",
       "      <td>511.30</td>\n",
       "      <td>785.00</td>\n",
       "    </tr>\n",
       "    <tr>\n",
       "      <td>2</td>\n",
       "      <td>2455.35</td>\n",
       "      <td>348.55</td>\n",
       "      <td>237.35</td>\n",
       "      <td>506.35</td>\n",
       "      <td>783.65</td>\n",
       "    </tr>\n",
       "    <tr>\n",
       "      <td>3</td>\n",
       "      <td>2536.20</td>\n",
       "      <td>347.90</td>\n",
       "      <td>232.65</td>\n",
       "      <td>492.90</td>\n",
       "      <td>746.95</td>\n",
       "    </tr>\n",
       "    <tr>\n",
       "      <td>4</td>\n",
       "      <td>2507.15</td>\n",
       "      <td>349.45</td>\n",
       "      <td>234.65</td>\n",
       "      <td>497.50</td>\n",
       "      <td>723.10</td>\n",
       "    </tr>\n",
       "    <tr>\n",
       "      <td>...</td>\n",
       "      <td>...</td>\n",
       "      <td>...</td>\n",
       "      <td>...</td>\n",
       "      <td>...</td>\n",
       "      <td>...</td>\n",
       "    </tr>\n",
       "    <tr>\n",
       "      <td>493</td>\n",
       "      <td>2151.95</td>\n",
       "      <td>372.55</td>\n",
       "      <td>186.20</td>\n",
       "      <td>979.10</td>\n",
       "      <td>779.35</td>\n",
       "    </tr>\n",
       "    <tr>\n",
       "      <td>494</td>\n",
       "      <td>2152.85</td>\n",
       "      <td>364.75</td>\n",
       "      <td>NaN</td>\n",
       "      <td>NaN</td>\n",
       "      <td>NaN</td>\n",
       "    </tr>\n",
       "    <tr>\n",
       "      <td>495</td>\n",
       "      <td>2172.55</td>\n",
       "      <td>NaN</td>\n",
       "      <td>NaN</td>\n",
       "      <td>NaN</td>\n",
       "      <td>NaN</td>\n",
       "    </tr>\n",
       "    <tr>\n",
       "      <td>496</td>\n",
       "      <td>2135.80</td>\n",
       "      <td>NaN</td>\n",
       "      <td>NaN</td>\n",
       "      <td>NaN</td>\n",
       "      <td>NaN</td>\n",
       "    </tr>\n",
       "    <tr>\n",
       "      <td>497</td>\n",
       "      <td>2128.75</td>\n",
       "      <td>NaN</td>\n",
       "      <td>NaN</td>\n",
       "      <td>NaN</td>\n",
       "      <td>NaN</td>\n",
       "    </tr>\n",
       "  </tbody>\n",
       "</table>\n",
       "<p>498 rows × 5 columns</p>\n",
       "</div>"
      ],
      "text/plain": [
       "         TCS  ADANIPORTS  APOLLOTYRES  MINDTREE  RAYMOND\n",
       "0    2365.10      356.20       231.90    509.45   772.80\n",
       "1    2429.15      354.50       234.40    511.30   785.00\n",
       "2    2455.35      348.55       237.35    506.35   783.65\n",
       "3    2536.20      347.90       232.65    492.90   746.95\n",
       "4    2507.15      349.45       234.65    497.50   723.10\n",
       "..       ...         ...          ...       ...      ...\n",
       "493  2151.95      372.55       186.20    979.10   779.35\n",
       "494  2152.85      364.75          NaN       NaN      NaN\n",
       "495  2172.55         NaN          NaN       NaN      NaN\n",
       "496  2135.80         NaN          NaN       NaN      NaN\n",
       "497  2128.75         NaN          NaN       NaN      NaN\n",
       "\n",
       "[498 rows x 5 columns]"
      ]
     },
     "execution_count": 7,
     "metadata": {},
     "output_type": "execute_result"
    }
   ],
   "source": [
    "stocks = portfolio.index\n",
    "\n",
    "portfolio_df = pd.DataFrame()\n",
    "filenames = ['TCS.csv','ADANIPORTS.csv','APOLLOTYRE.csv','MINDTREE.csv','RAYMOND.csv']\n",
    "def define_df(filenames):\n",
    "    i = 0\n",
    "    for stock in stocks:\n",
    "        portfolio_df[stock]=pd.read_csv(filenames[i])['Close Price']\n",
    "        i = i+1\n",
    "    return portfolio_df\n",
    "portfolio_df = define_df(filenames)  \n",
    "portfolio_df"
   ]
  },
  {
   "cell_type": "code",
   "execution_count": 8,
   "metadata": {},
   "outputs": [
    {
     "name": "stdout",
     "output_type": "stream",
     "text": [
      "0.10590337574626442\n"
     ]
    }
   ],
   "source": [
    "weights = [0.2,0.2,0.2,0.2,0.2]\n",
    "def overall_annualReturns(portfolio_df,weights):\n",
    "    return np.sum(portfolio_df.pct_change().mean()* weights)*252\n",
    "print(overall_annualReturns(portfolio_df,weights))\n"
   ]
  },
  {
   "cell_type": "code",
   "execution_count": 9,
   "metadata": {},
   "outputs": [
    {
     "data": {
      "text/html": [
       "<div>\n",
       "<style scoped>\n",
       "    .dataframe tbody tr th:only-of-type {\n",
       "        vertical-align: middle;\n",
       "    }\n",
       "\n",
       "    .dataframe tbody tr th {\n",
       "        vertical-align: top;\n",
       "    }\n",
       "\n",
       "    .dataframe thead th {\n",
       "        text-align: right;\n",
       "    }\n",
       "</style>\n",
       "<table border=\"1\" class=\"dataframe\">\n",
       "  <thead>\n",
       "    <tr style=\"text-align: right;\">\n",
       "      <th></th>\n",
       "      <th>TCS</th>\n",
       "      <th>ADANIPORTS</th>\n",
       "      <th>APOLLOTYRES</th>\n",
       "      <th>MINDTREE</th>\n",
       "      <th>RAYMOND</th>\n",
       "    </tr>\n",
       "  </thead>\n",
       "  <tbody>\n",
       "    <tr>\n",
       "      <td>TCS</td>\n",
       "      <td>0.000733</td>\n",
       "      <td>-0.000039</td>\n",
       "      <td>0.000031</td>\n",
       "      <td>0.000095</td>\n",
       "      <td>0.000009</td>\n",
       "    </tr>\n",
       "    <tr>\n",
       "      <td>ADANIPORTS</td>\n",
       "      <td>-0.000039</td>\n",
       "      <td>0.000378</td>\n",
       "      <td>0.000119</td>\n",
       "      <td>0.000048</td>\n",
       "      <td>0.000136</td>\n",
       "    </tr>\n",
       "    <tr>\n",
       "      <td>APOLLOTYRES</td>\n",
       "      <td>0.000031</td>\n",
       "      <td>0.000119</td>\n",
       "      <td>0.000379</td>\n",
       "      <td>0.000020</td>\n",
       "      <td>0.000166</td>\n",
       "    </tr>\n",
       "    <tr>\n",
       "      <td>MINDTREE</td>\n",
       "      <td>0.000095</td>\n",
       "      <td>0.000048</td>\n",
       "      <td>0.000020</td>\n",
       "      <td>0.000459</td>\n",
       "      <td>0.000041</td>\n",
       "    </tr>\n",
       "    <tr>\n",
       "      <td>RAYMOND</td>\n",
       "      <td>0.000009</td>\n",
       "      <td>0.000136</td>\n",
       "      <td>0.000166</td>\n",
       "      <td>0.000041</td>\n",
       "      <td>0.000521</td>\n",
       "    </tr>\n",
       "  </tbody>\n",
       "</table>\n",
       "</div>"
      ],
      "text/plain": [
       "                  TCS  ADANIPORTS  APOLLOTYRES  MINDTREE   RAYMOND\n",
       "TCS          0.000733   -0.000039     0.000031  0.000095  0.000009\n",
       "ADANIPORTS  -0.000039    0.000378     0.000119  0.000048  0.000136\n",
       "APOLLOTYRES  0.000031    0.000119     0.000379  0.000020  0.000166\n",
       "MINDTREE     0.000095    0.000048     0.000020  0.000459  0.000041\n",
       "RAYMOND      0.000009    0.000136     0.000166  0.000041  0.000521"
      ]
     },
     "execution_count": 9,
     "metadata": {},
     "output_type": "execute_result"
    }
   ],
   "source": [
    "portfolio_covariance=portfolio_df.pct_change().cov()\n",
    "portfolio_covariance\n"
   ]
  },
  {
   "cell_type": "code",
   "execution_count": 10,
   "metadata": {},
   "outputs": [
    {
     "data": {
      "text/plain": [
       "0.05"
      ]
     },
     "execution_count": 10,
     "metadata": {},
     "output_type": "execute_result"
    }
   ],
   "source": [
    "def portfolio_annual_volatility( portfolio, weights ): \n",
    "    return np.sqrt(\n",
    "        np.dot( \n",
    "            weights.T, \n",
    "            np.dot( portfolio.pct_change().cov(), weights )\n",
    "        ) \n",
    "        * np.sqrt(252)\n",
    "    )\n",
    "\n",
    "round( portfolio_annual_volatility(portfolio_df, np.array(weights)), 2 )\n"
   ]
  },
  {
   "cell_type": "code",
   "execution_count": 11,
   "metadata": {},
   "outputs": [
    {
     "data": {
      "text/plain": [
       "2.178884376995363"
      ]
     },
     "execution_count": 11,
     "metadata": {},
     "output_type": "execute_result"
    }
   ],
   "source": [
    "def portfolio_sharpe(portfolio_df, weights):\n",
    "    return overall_annualReturns(portfolio_df, weights)/portfolio_annual_volatility(portfolio_df, np.array(weights))\n",
    "sharp_ratio = portfolio_sharpe(portfolio_df, weights)\n",
    "sharp_ratio"
   ]
  },
  {
   "cell_type": "markdown",
   "metadata": {},
   "source": [
    "<h3> Question 3 : </h3>"
   ]
  },
  {
   "cell_type": "code",
   "execution_count": 12,
   "metadata": {},
   "outputs": [
    {
     "data": {
      "text/plain": [
       "array([0.27372627, 0.25274725, 0.12487512, 0.11488511, 0.23376623])"
      ]
     },
     "execution_count": 12,
     "metadata": {},
     "output_type": "execute_result"
    }
   ],
   "source": [
    "def normalize_weights( weights ):\n",
    "    for i in range(0,5):\n",
    "        weights  = np.round( weights, 3 ) \n",
    "        weights /= weights.sum()\n",
    "    return np.asarray(weights)\n",
    "    \n",
    "def random_weights():\n",
    "    weights  = np.random.rand(portfolio_df.shape[1])\n",
    "    return normalize_weights( weights )\n",
    "\n",
    "random_weights()\n"
   ]
  },
  {
   "cell_type": "code",
   "execution_count": 13,
   "metadata": {},
   "outputs": [
    {
     "data": {
      "text/html": [
       "<div>\n",
       "<style scoped>\n",
       "    .dataframe tbody tr th:only-of-type {\n",
       "        vertical-align: middle;\n",
       "    }\n",
       "\n",
       "    .dataframe tbody tr th {\n",
       "        vertical-align: top;\n",
       "    }\n",
       "\n",
       "    .dataframe thead th {\n",
       "        text-align: right;\n",
       "    }\n",
       "</style>\n",
       "<table border=\"1\" class=\"dataframe\">\n",
       "  <thead>\n",
       "    <tr style=\"text-align: right;\">\n",
       "      <th></th>\n",
       "      <th>weights</th>\n",
       "      <th>returns</th>\n",
       "      <th>volatility</th>\n",
       "      <th>sharpe</th>\n",
       "    </tr>\n",
       "  </thead>\n",
       "  <tbody>\n",
       "    <tr>\n",
       "      <td>0</td>\n",
       "      <td>[0.12512512512512514, 0.2952952952952953, 0.02...</td>\n",
       "      <td>0.167270</td>\n",
       "      <td>0.050971</td>\n",
       "      <td>3.281689</td>\n",
       "    </tr>\n",
       "    <tr>\n",
       "      <td>1</td>\n",
       "      <td>[0.19480519480519484, 0.18881118881118883, 0.2...</td>\n",
       "      <td>0.104934</td>\n",
       "      <td>0.048690</td>\n",
       "      <td>2.155143</td>\n",
       "    </tr>\n",
       "    <tr>\n",
       "      <td>2</td>\n",
       "      <td>[0.33333333333333337, 0.24624624624624628, 0.0...</td>\n",
       "      <td>0.134982</td>\n",
       "      <td>0.052258</td>\n",
       "      <td>2.582982</td>\n",
       "    </tr>\n",
       "    <tr>\n",
       "      <td>3</td>\n",
       "      <td>[0.368, 0.061, 0.152, 0.054, 0.365]</td>\n",
       "      <td>0.067733</td>\n",
       "      <td>0.058687</td>\n",
       "      <td>1.154134</td>\n",
       "    </tr>\n",
       "    <tr>\n",
       "      <td>4</td>\n",
       "      <td>[0.3383383383383383, 0.08608608608608607, 0.09...</td>\n",
       "      <td>0.110392</td>\n",
       "      <td>0.055386</td>\n",
       "      <td>1.993132</td>\n",
       "    </tr>\n",
       "    <tr>\n",
       "      <td>...</td>\n",
       "      <td>...</td>\n",
       "      <td>...</td>\n",
       "      <td>...</td>\n",
       "      <td>...</td>\n",
       "    </tr>\n",
       "    <tr>\n",
       "      <td>2495</td>\n",
       "      <td>[0.198, 0.252, 0.109, 0.089, 0.352]</td>\n",
       "      <td>0.082012</td>\n",
       "      <td>0.052846</td>\n",
       "      <td>1.551902</td>\n",
       "    </tr>\n",
       "    <tr>\n",
       "      <td>2496</td>\n",
       "      <td>[0.17682317682317683, 0.04395604395604396, 0.0...</td>\n",
       "      <td>0.172314</td>\n",
       "      <td>0.054880</td>\n",
       "      <td>3.139852</td>\n",
       "    </tr>\n",
       "    <tr>\n",
       "      <td>2497</td>\n",
       "      <td>[0.2117882117882118, 0.2417582417582418, 0.124...</td>\n",
       "      <td>0.100810</td>\n",
       "      <td>0.050000</td>\n",
       "      <td>2.016192</td>\n",
       "    </tr>\n",
       "    <tr>\n",
       "      <td>2498</td>\n",
       "      <td>[0.32400000000000007, 0.26700000000000007, 0.0...</td>\n",
       "      <td>0.135500</td>\n",
       "      <td>0.051929</td>\n",
       "      <td>2.609311</td>\n",
       "    </tr>\n",
       "    <tr>\n",
       "      <td>2499</td>\n",
       "      <td>[0.34400000000000003, 0.22500000000000003, 0.2...</td>\n",
       "      <td>0.092678</td>\n",
       "      <td>0.051943</td>\n",
       "      <td>1.784206</td>\n",
       "    </tr>\n",
       "  </tbody>\n",
       "</table>\n",
       "<p>2500 rows × 4 columns</p>\n",
       "</div>"
      ],
      "text/plain": [
       "                                                weights   returns  volatility  \\\n",
       "0     [0.12512512512512514, 0.2952952952952953, 0.02...  0.167270    0.050971   \n",
       "1     [0.19480519480519484, 0.18881118881118883, 0.2...  0.104934    0.048690   \n",
       "2     [0.33333333333333337, 0.24624624624624628, 0.0...  0.134982    0.052258   \n",
       "3                   [0.368, 0.061, 0.152, 0.054, 0.365]  0.067733    0.058687   \n",
       "4     [0.3383383383383383, 0.08608608608608607, 0.09...  0.110392    0.055386   \n",
       "...                                                 ...       ...         ...   \n",
       "2495                [0.198, 0.252, 0.109, 0.089, 0.352]  0.082012    0.052846   \n",
       "2496  [0.17682317682317683, 0.04395604395604396, 0.0...  0.172314    0.054880   \n",
       "2497  [0.2117882117882118, 0.2417582417582418, 0.124...  0.100810    0.050000   \n",
       "2498  [0.32400000000000007, 0.26700000000000007, 0.0...  0.135500    0.051929   \n",
       "2499  [0.34400000000000003, 0.22500000000000003, 0.2...  0.092678    0.051943   \n",
       "\n",
       "        sharpe  \n",
       "0     3.281689  \n",
       "1     2.155143  \n",
       "2     2.582982  \n",
       "3     1.154134  \n",
       "4     1.993132  \n",
       "...        ...  \n",
       "2495  1.551902  \n",
       "2496  3.139852  \n",
       "2497  2.016192  \n",
       "2498  2.609311  \n",
       "2499  1.784206  \n",
       "\n",
       "[2500 rows x 4 columns]"
      ]
     },
     "execution_count": 13,
     "metadata": {},
     "output_type": "execute_result"
    }
   ],
   "source": [
    "scatter_data = pd.DataFrame()\n",
    "for i in range(0, 2500):\n",
    "    weights    = random_weights()\n",
    "    returns    = overall_annualReturns( portfolio_df, weights )\n",
    "    volatility = portfolio_annual_volatility( portfolio_df, weights )\n",
    "    sharpe     = returns / volatility\n",
    "    scatter_data = scatter_data.append([{\n",
    "        \"weights\":    weights,\n",
    "        \"returns\":    returns,\n",
    "        \"volatility\": volatility,\n",
    "        \"sharpe\":     sharpe\n",
    "    }])\n",
    "\n",
    "scatter_data.reset_index(inplace=True, drop=True)\n",
    "scatter_data\n"
   ]
  },
  {
   "cell_type": "markdown",
   "metadata": {},
   "source": [
    "<h3> Question 3 & 4 : </h3>"
   ]
  },
  {
   "cell_type": "code",
   "execution_count": 14,
   "metadata": {},
   "outputs": [
    {
     "data": {
      "text/plain": [
       "weights       [0.185, 0.252, 0.212, 0.224, 0.127]\n",
       "returns                                  0.111418\n",
       "volatility                               0.047911\n",
       "sharpe                                    2.32552\n",
       "Name: 717, dtype: object"
      ]
     },
     "execution_count": 14,
     "metadata": {},
     "output_type": "execute_result"
    }
   ],
   "source": [
    "point_max_sharpe = scatter_data.loc[scatter_data['sharpe'].idxmax()]\n",
    "point_max_sharpe\n",
    "point_min_vol = scatter_data.loc[scatter_data['volatility'].idxmin()]\n",
    "point_min_vol\n"
   ]
  },
  {
   "cell_type": "code",
   "execution_count": 15,
   "metadata": {},
   "outputs": [
    {
     "data": {
      "image/png": "[encoded data removed]",
      "text/plain": [
       "<Figure size 1080x576 with 2 Axes>"
      ]
     },
     "metadata": {
      "needs_background": "light"
     },
     "output_type": "display_data"
    }
   ],
   "source": [
    "fig,ax = plt.subplots(figsize = (15,8),nrows = 1,ncols = 1)\n",
    "plt.scatter(scatter_data.volatility, scatter_data.returns, c = scatter_data.sharpe)\n",
    "plt.title('Portfolo Weightings - Monty-Carlo Simulation')\n",
    "plt.ylabel('Annualized Return')\n",
    "plt.xlabel('Annualized Volatility')\n",
    "plt.colorbar()\n",
    "plt.scatter(point_max_sharpe.volatility, point_max_sharpe.returns, marker=(5,1,0), c = 'b', s = 200 )\n",
    "plt.scatter(point_min_vol.volatility, point_min_vol.returns, marker = (5,1,0), c = 'r', s = 200 )\n",
    "plt.show()\n"
   ]
  },
  {
   "cell_type": "markdown",
   "metadata": {},
   "source": [
    "<h1> MODULE 5 ENDS here, Thank You </h1>"
   ]
  }
 ],
 "metadata": {
  "kernelspec": {
   "display_name": "Python 3",
   "language": "python",
   "name": "python3"
  },
  "language_info": {
   "codemirror_mode": {
    "name": "ipython",
    "version": 3
   },
   "file_extension": ".py",
   "mimetype": "text/x-python",
   "name": "python",
   "nbconvert_exporter": "python",
   "pygments_lexer": "ipython3",
   "version": "3.7.4"
  }
 },
 "nbformat": 4,
 "nbformat_minor": 2
}
